{
 "cells": [
  {
   "cell_type": "code",
   "execution_count": 6,
   "metadata": {},
   "outputs": [
    {
     "name": "stderr",
     "output_type": "stream",
     "text": [
      "Updating HTML index of packages in '.Library'\n",
      "Making 'packages.html' ... done\n",
      "Loading required package: lattice\n"
     ]
    }
   ],
   "source": [
    "# Load packages\n",
    "library('ggplot2') # visualization\n",
    "library('ggthemes') # visualization\n",
    "library('scales') # visualization\n",
    "library('dplyr') # data manipulation\n",
    "library('mice') # imputation\n",
    "library('randomForest') # classification algorithm"
   ]
  },
  {
   "cell_type": "code",
   "execution_count": 9,
   "metadata": {},
   "outputs": [
    {
     "name": "stdout",
     "output_type": "stream",
     "text": [
      "'data.frame':\t1309 obs. of  12 variables:\n",
      " $ PassengerId: int  1 2 3 4 5 6 7 8 9 10 ...\n",
      " $ Survived   : int  0 1 1 1 0 0 0 0 1 1 ...\n",
      " $ Pclass     : int  3 1 3 1 3 3 1 3 3 2 ...\n",
      " $ Name       : chr  \"Braund, Mr. Owen Harris\" \"Cumings, Mrs. John Bradley (Florence Briggs Thayer)\" \"Heikkinen, Miss. Laina\" \"Futrelle, Mrs. Jacques Heath (Lily May Peel)\" ...\n",
      " $ Sex        : chr  \"male\" \"female\" \"female\" \"female\" ...\n",
      " $ Age        : num  22 38 26 35 35 NA 54 2 27 14 ...\n",
      " $ SibSp      : int  1 1 0 1 0 0 0 3 0 1 ...\n",
      " $ Parch      : int  0 0 0 0 0 0 0 1 2 0 ...\n",
      " $ Ticket     : chr  \"A/5 21171\" \"PC 17599\" \"STON/O2. 3101282\" \"113803\" ...\n",
      " $ Fare       : num  7.25 71.28 7.92 53.1 8.05 ...\n",
      " $ Cabin      : chr  \"\" \"C85\" \"\" \"C123\" ...\n",
      " $ Embarked   : chr  \"S\" \"C\" \"S\" \"S\" ...\n"
     ]
    }
   ],
   "source": [
    "train <- read.csv('../input/train.csv', stringsAsFactors = F)\n",
    "test  <- read.csv('../input/test.csv', stringsAsFactors = F)\n",
    "sub  <- read.csv('../input/gender_submission.csv', stringsAsFactors = F)\n",
    "\n",
    "full  <- bind_rows(train, test) # bind training & test data\n",
    "\n",
    "# check data\n",
    "str(full)"
   ]
  },
  {
   "cell_type": "code",
   "execution_count": 18,
   "metadata": {},
   "outputs": [
    {
     "data": {
      "text/plain": [
       "        \n",
       "         Capt Col Don Dona  Dr Jonkheer Lady Major Master Miss Mlle Mme  Mr Mrs\n",
       "  female    0   0   0    1   1        0    1     0      0  260    2   1   0 197\n",
       "  male      1   4   1    0   7        1    0     2     61    0    0   0 757   0\n",
       "        \n",
       "          Ms Rev Sir the Countess\n",
       "  female   2   0   0            1\n",
       "  male     0   8   1            0"
      ]
     },
     "metadata": {},
     "output_type": "display_data"
    }
   ],
   "source": [
    "# Grab title from passenger names\n",
    "full$Title <- gsub('(.*, )|(\\\\..*)', '', full$Name)\n",
    "\n",
    "# Show title counts by sex\n",
    "table(full$Sex, full$Title)"
   ]
  },
  {
   "cell_type": "code",
   "execution_count": 19,
   "metadata": {},
   "outputs": [
    {
     "data": {
      "text/plain": [
       "        \n",
       "         Master Miss  Mr Mrs Rare Title\n",
       "  female      0  264   0 198          4\n",
       "  male       61    0 757   0         25"
      ]
     },
     "metadata": {},
     "output_type": "display_data"
    }
   ],
   "source": [
    "# Titles with very low cell counts to be combined to \"rare\" level\n",
    "rare_title <- c('Dona', 'Lady', 'the Countess','Capt', 'Col', 'Don', \n",
    "                'Dr', 'Major', 'Rev', 'Sir', 'Jonkheer')\n",
    "\n",
    "# Also reassign mlle, ms, and mme accordingly\n",
    "full$Title[full$Title == 'Mlle']        <- 'Miss' \n",
    "full$Title[full$Title == 'Ms']          <- 'Miss'\n",
    "full$Title[full$Title == 'Mme']         <- 'Mrs' \n",
    "full$Title[full$Title %in% rare_title]  <- 'Rare Title'\n",
    "\n",
    "# Show title counts by sex again\n",
    "table(full$Sex, full$Title)"
   ]
  },
  {
   "cell_type": "code",
   "execution_count": 20,
   "metadata": {},
   "outputs": [],
   "source": [
    "# Finally, grab surname from passenger name\n",
    "full$Surname <- sapply(full$Name,  \n",
    "                      function(x) strsplit(x, split = '[,.]')[[1]][1])"
   ]
  },
  {
   "cell_type": "code",
   "execution_count": 21,
   "metadata": {},
   "outputs": [
    {
     "name": "stdout",
     "output_type": "stream",
     "text": [
      "We have <b> 875 </b> unique surnames. I would be interested to infer ethnicity based on surname --- another time."
     ]
    }
   ],
   "source": [
    "cat(paste('We have <b>', nlevels(factor(full$Surname)), '</b> unique surnames. I would be interested to infer ethnicity based on surname --- another time.'))"
   ]
  },
  {
   "cell_type": "code",
   "execution_count": 23,
   "metadata": {},
   "outputs": [],
   "source": [
    "# Create a family size variable including the passenger themselves\n",
    "full$Fsize <- full$SibSp + full$Parch + 1\n",
    "\n",
    "# Create a family variable \n",
    "full$Family <- paste(full$Surname, full$Fsize, sep='_')"
   ]
  },
  {
   "cell_type": "code",
   "execution_count": 25,
   "metadata": {},
   "outputs": [
    {
     "data": {
      "text/html": [
       "<ol class=list-inline>\n",
       "\t<li>'Braund_2'</li>\n",
       "\t<li>'Cumings_2'</li>\n",
       "\t<li>'Heikkinen_1'</li>\n",
       "\t<li>'Futrelle_2'</li>\n",
       "\t<li>'Allen_1'</li>\n",
       "\t<li>'Moran_1'</li>\n",
       "</ol>\n"
      ],
      "text/latex": [
       "\\begin{enumerate*}\n",
       "\\item 'Braund\\_2'\n",
       "\\item 'Cumings\\_2'\n",
       "\\item 'Heikkinen\\_1'\n",
       "\\item 'Futrelle\\_2'\n",
       "\\item 'Allen\\_1'\n",
       "\\item 'Moran\\_1'\n",
       "\\end{enumerate*}\n"
      ],
      "text/markdown": [
       "1. 'Braund_2'\n",
       "2. 'Cumings_2'\n",
       "3. 'Heikkinen_1'\n",
       "4. 'Futrelle_2'\n",
       "5. 'Allen_1'\n",
       "6. 'Moran_1'\n",
       "\n",
       "\n"
      ],
      "text/plain": [
       "[1] \"Braund_2\"    \"Cumings_2\"   \"Heikkinen_1\" \"Futrelle_2\"  \"Allen_1\"    \n",
       "[6] \"Moran_1\"    "
      ]
     },
     "metadata": {},
     "output_type": "display_data"
    }
   ],
   "source": [
    "head(full$Family)"
   ]
  }
 ],
 "metadata": {
  "kernelspec": {
   "display_name": "R",
   "language": "R",
   "name": "ir"
  },
  "language_info": {
   "codemirror_mode": "r",
   "file_extension": ".r",
   "mimetype": "text/x-r-source",
   "name": "R",
   "pygments_lexer": "r",
   "version": "3.4.3"
  }
 },
 "nbformat": 4,
 "nbformat_minor": 2
}
